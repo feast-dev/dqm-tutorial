{
 "cells": [
  {
   "cell_type": "markdown",
   "id": "e2b3e96b",
   "metadata": {},
   "source": [
    "# Data Quality Monitoring"
   ]
  },
  {
   "cell_type": "markdown",
   "id": "e3e139ef",
   "metadata": {},
   "source": [
    "## Validating Historical Features with Great Expectations"
   ]
  },
  {
   "cell_type": "markdown",
   "id": "9b66b943",
   "metadata": {},
   "source": [
    "### 0. Setup"
   ]
  },
  {
   "cell_type": "code",
   "execution_count": null,
   "id": "706e67d7",
   "metadata": {},
   "outputs": [],
   "source": [
    "!pip install 'feast[ge]'"
   ]
  },
  {
   "cell_type": "code",
   "execution_count": null,
   "id": "9ca11e6d",
   "metadata": {},
   "outputs": [],
   "source": []
  },
  {
   "cell_type": "markdown",
   "id": "93dbebd8",
   "metadata": {},
   "source": [
    "### 1. Dataset preparation (Optional) "
   ]
  },
  {
   "cell_type": "markdown",
   "id": "e875bb35",
   "metadata": {},
   "source": [
    "**You can skip this step if you don't have GCP account. Please use parquet files that are coming with this tutorial instead**"
   ]
  },
  {
   "cell_type": "code",
   "execution_count": null,
   "id": "343f03da",
   "metadata": {},
   "outputs": [],
   "source": [
    "!pip install google-cloud-bigquery"
   ]
  },
  {
   "cell_type": "code",
   "execution_count": 1,
   "id": "6787c9fa",
   "metadata": {},
   "outputs": [],
   "source": [
    "import pyarrow.parquet\n",
    "\n",
    "from google.cloud.bigquery import Client"
   ]
  },
  {
   "cell_type": "code",
   "execution_count": 2,
   "id": "8cad9c80",
   "metadata": {},
   "outputs": [
    {
     "name": "stderr",
     "output_type": "stream",
     "text": [
      "/Users/pyalex/projects/feast/venv/lib/python3.7/site-packages/google/auth/_default.py:70: UserWarning: Your application has authenticated using end user credentials from Google Cloud SDK without a quota project. You might receive a \"quota exceeded\" or \"API not enabled\" error. We recommend you rerun `gcloud auth application-default login` and make sure a quota project is added. Or you can use service accounts instead. For more information about service accounts, see https://cloud.google.com/docs/authentication/\n",
      "  warnings.warn(_CLOUD_SDK_CREDENTIALS_WARNING)\n"
     ]
    }
   ],
   "source": [
    "bq_client = Client(project='kf-feast')"
   ]
  },
  {
   "cell_type": "code",
   "execution_count": 3,
   "id": "a019d23d",
   "metadata": {},
   "outputs": [],
   "source": [
    "data_query = \"\"\"SELECT \n",
    "    taxi_id,\n",
    "    TIMESTAMP_TRUNC(trip_start_timestamp, DAY) as day,\n",
    "    SUM(trip_miles) as total_miles_travelled,\n",
    "    SUM(trip_seconds) as total_trip_seconds,\n",
    "    SUM(fare) as total_earned,\n",
    "    COUNT(*) as trip_count\n",
    "FROM `bigquery-public-data.chicago_taxi_trips.taxi_trips` \n",
    "WHERE \n",
    "    trip_miles > 0 AND trip_seconds > 0 AND\n",
    "    trip_start_timestamp BETWEEN '2019-01-01' and '2020-12-31'\n",
    "GROUP BY taxi_id, TIMESTAMP_TRUNC(trip_start_timestamp, DAY)\"\"\""
   ]
  },
  {
   "cell_type": "code",
   "execution_count": 4,
   "id": "0aa0ea00",
   "metadata": {},
   "outputs": [],
   "source": [
    "driver_stats_table = bq_client.query(data_query).to_arrow()\n",
    "\n",
    "pyarrow.parquet.write_table(driver_stats_table, \"trips_stats.parquet\")"
   ]
  },
  {
   "cell_type": "code",
   "execution_count": 5,
   "id": "aa5d86c4",
   "metadata": {},
   "outputs": [],
   "source": [
    "def entities_query(year):\n",
    "    return f\"\"\"SELECT\n",
    "    distinct taxi_id\n",
    "FROM `bigquery-public-data.chicago_taxi_trips.taxi_trips` \n",
    "WHERE\n",
    "    trip_miles > 0 AND trip_seconds > 0 AND\n",
    "    trip_start_timestamp BETWEEN '{year}-01-01' and '{year}-12-31'\n",
    "\"\"\""
   ]
  },
  {
   "cell_type": "code",
   "execution_count": 15,
   "id": "e9cc7a21",
   "metadata": {},
   "outputs": [],
   "source": [
    "entities_2019_table = bq_client.query(entities_query(2019)).to_arrow()\n",
    "\n",
    "pyarrow.parquet.write_table(entities_2019_table, \"entities.parquet\")"
   ]
  },
  {
   "cell_type": "code",
   "execution_count": 7,
   "id": "644201fe",
   "metadata": {},
   "outputs": [],
   "source": [
    "#entities_2020_table = bq_client.query(entities_query(2020)).to_arrow()\n",
    "#pyarrow.parquet.write_table(entities_2019_table, \"entities_2020.parquet\")"
   ]
  },
  {
   "cell_type": "code",
   "execution_count": null,
   "id": "10d40e89",
   "metadata": {},
   "outputs": [],
   "source": []
  },
  {
   "cell_type": "markdown",
   "id": "3b5faba1",
   "metadata": {},
   "source": [
    "## 2. Declaring features"
   ]
  },
  {
   "cell_type": "code",
   "execution_count": 8,
   "id": "19cd609c",
   "metadata": {},
   "outputs": [],
   "source": [
    "import pyarrow.parquet\n",
    "import pandas as pd\n",
    "\n",
    "from feast import Feature, FeatureView, Entity, FeatureStore\n",
    "from feast.value_type import ValueType\n",
    "from feast.data_format import ParquetFormat\n",
    "from feast.on_demand_feature_view import on_demand_feature_view\n",
    "from feast.infra.offline_stores.file_source import FileSource\n",
    "from feast.infra.offline_stores.file import SavedDatasetFileStorage\n",
    "\n",
    "from google.protobuf.duration_pb2 import Duration"
   ]
  },
  {
   "cell_type": "code",
   "execution_count": 9,
   "id": "79ff6a81",
   "metadata": {},
   "outputs": [],
   "source": [
    "batch_source = FileSource(\n",
    "    event_timestamp_column=\"day\",\n",
    "    path=\"trips_stats.parquet\",\n",
    "    file_format=ParquetFormat()\n",
    ")"
   ]
  },
  {
   "cell_type": "code",
   "execution_count": 10,
   "id": "7cc59092",
   "metadata": {},
   "outputs": [],
   "source": [
    "taxi_entity = Entity(name='taxi', join_key='taxi_id')"
   ]
  },
  {
   "cell_type": "code",
   "execution_count": 11,
   "id": "d0dc7fda",
   "metadata": {},
   "outputs": [],
   "source": [
    "trips_stats_fv = FeatureView(\n",
    "    name='trip_stats',\n",
    "    entities=['taxi'],\n",
    "    features=[\n",
    "        Feature(\"total_miles_travelled\", ValueType.DOUBLE),\n",
    "        Feature(\"total_trip_seconds\", ValueType.DOUBLE),\n",
    "        Feature(\"total_earned\", ValueType.DOUBLE),\n",
    "        Feature(\"trip_count\", ValueType.INT64),\n",
    "        \n",
    "    ],\n",
    "    ttl=Duration(seconds=86400),\n",
    "    batch_source=batch_source,\n",
    ")\n",
    "\n",
    "@on_demand_feature_view(\n",
    "    features=[\n",
    "        Feature(\"avg_fare\", ValueType.DOUBLE),\n",
    "        Feature(\"avg_speed\", ValueType.DOUBLE),\n",
    "        Feature(\"avg_trip_seconds\", ValueType.DOUBLE),\n",
    "    ],\n",
    "    inputs={\n",
    "        \"stats\": trips_stats_fv\n",
    "    }\n",
    ")\n",
    "def on_demand_stats(inp):\n",
    "    out = pd.DataFrame()\n",
    "    out[\"avg_fare\"] = inp[\"total_earned\"] / inp[\"trip_count\"]\n",
    "    out[\"avg_speed\"] = 3600 * inp[\"total_miles_travelled\"] / inp[\"total_trip_seconds\"]\n",
    "    out[\"avg_trip_seconds\"] = inp[\"total_trip_seconds\"] / inp[\"trip_count\"]\n",
    "    return out"
   ]
  },
  {
   "cell_type": "code",
   "execution_count": 12,
   "id": "be0c72e7",
   "metadata": {},
   "outputs": [],
   "source": [
    "store = FeatureStore(\".\")"
   ]
  },
  {
   "cell_type": "code",
   "execution_count": 13,
   "id": "8935e813",
   "metadata": {},
   "outputs": [],
   "source": [
    "store.apply([taxi_entity, trips_stats_fv, on_demand_stats])"
   ]
  },
  {
   "cell_type": "code",
   "execution_count": null,
   "id": "57ffb7c8",
   "metadata": {},
   "outputs": [],
   "source": []
  },
  {
   "cell_type": "markdown",
   "id": "45de2545",
   "metadata": {},
   "source": [
    "## 3. Generating training (reference) dataset"
   ]
  },
  {
   "cell_type": "code",
   "execution_count": 16,
   "id": "03ba0273",
   "metadata": {},
   "outputs": [],
   "source": [
    "taxi_ids = pyarrow.parquet.read_table(\"entities.parquet\").to_pandas()"
   ]
  },
  {
   "cell_type": "markdown",
   "id": "ee72c332",
   "metadata": {},
   "source": [
    "Generating range of timestamps with daily frequency:"
   ]
  },
  {
   "cell_type": "code",
   "execution_count": 17,
   "id": "a558e4b8",
   "metadata": {},
   "outputs": [],
   "source": [
    "timestamps = pd.DataFrame()\n",
    "timestamps[\"event_timestamp\"] = pd.date_range(\"2019-01-01\", \"2019-01-07\", freq='D')"
   ]
  },
  {
   "cell_type": "markdown",
   "id": "e6db6725",
   "metadata": {},
   "source": [
    "Cross merge (aka relation multiplication) produces entity dataframe with each taxi_id repeated for each timestamp:"
   ]
  },
  {
   "cell_type": "code",
   "execution_count": 18,
   "id": "2f6ca83c",
   "metadata": {},
   "outputs": [
    {
     "data": {
      "text/html": [
       "<div>\n",
       "<style scoped>\n",
       "    .dataframe tbody tr th:only-of-type {\n",
       "        vertical-align: middle;\n",
       "    }\n",
       "\n",
       "    .dataframe tbody tr th {\n",
       "        vertical-align: top;\n",
       "    }\n",
       "\n",
       "    .dataframe thead th {\n",
       "        text-align: right;\n",
       "    }\n",
       "</style>\n",
       "<table border=\"1\" class=\"dataframe\">\n",
       "  <thead>\n",
       "    <tr style=\"text-align: right;\">\n",
       "      <th></th>\n",
       "      <th>taxi_id</th>\n",
       "      <th>event_timestamp</th>\n",
       "    </tr>\n",
       "  </thead>\n",
       "  <tbody>\n",
       "    <tr>\n",
       "      <th>0</th>\n",
       "      <td>91d5288487e87c5917b813ba6f75ab1c3a9749af906a2d...</td>\n",
       "      <td>2019-01-01</td>\n",
       "    </tr>\n",
       "    <tr>\n",
       "      <th>1</th>\n",
       "      <td>91d5288487e87c5917b813ba6f75ab1c3a9749af906a2d...</td>\n",
       "      <td>2019-01-02</td>\n",
       "    </tr>\n",
       "    <tr>\n",
       "      <th>2</th>\n",
       "      <td>91d5288487e87c5917b813ba6f75ab1c3a9749af906a2d...</td>\n",
       "      <td>2019-01-03</td>\n",
       "    </tr>\n",
       "    <tr>\n",
       "      <th>3</th>\n",
       "      <td>91d5288487e87c5917b813ba6f75ab1c3a9749af906a2d...</td>\n",
       "      <td>2019-01-04</td>\n",
       "    </tr>\n",
       "    <tr>\n",
       "      <th>4</th>\n",
       "      <td>91d5288487e87c5917b813ba6f75ab1c3a9749af906a2d...</td>\n",
       "      <td>2019-01-05</td>\n",
       "    </tr>\n",
       "    <tr>\n",
       "      <th>...</th>\n",
       "      <td>...</td>\n",
       "      <td>...</td>\n",
       "    </tr>\n",
       "    <tr>\n",
       "      <th>35443</th>\n",
       "      <td>7ebf27414a0c7b128e7925e1da56d51a8b81484f7630cf...</td>\n",
       "      <td>2019-01-03</td>\n",
       "    </tr>\n",
       "    <tr>\n",
       "      <th>35444</th>\n",
       "      <td>7ebf27414a0c7b128e7925e1da56d51a8b81484f7630cf...</td>\n",
       "      <td>2019-01-04</td>\n",
       "    </tr>\n",
       "    <tr>\n",
       "      <th>35445</th>\n",
       "      <td>7ebf27414a0c7b128e7925e1da56d51a8b81484f7630cf...</td>\n",
       "      <td>2019-01-05</td>\n",
       "    </tr>\n",
       "    <tr>\n",
       "      <th>35446</th>\n",
       "      <td>7ebf27414a0c7b128e7925e1da56d51a8b81484f7630cf...</td>\n",
       "      <td>2019-01-06</td>\n",
       "    </tr>\n",
       "    <tr>\n",
       "      <th>35447</th>\n",
       "      <td>7ebf27414a0c7b128e7925e1da56d51a8b81484f7630cf...</td>\n",
       "      <td>2019-01-07</td>\n",
       "    </tr>\n",
       "  </tbody>\n",
       "</table>\n",
       "<p>35448 rows × 2 columns</p>\n",
       "</div>"
      ],
      "text/plain": [
       "                                                 taxi_id event_timestamp\n",
       "0      91d5288487e87c5917b813ba6f75ab1c3a9749af906a2d...      2019-01-01\n",
       "1      91d5288487e87c5917b813ba6f75ab1c3a9749af906a2d...      2019-01-02\n",
       "2      91d5288487e87c5917b813ba6f75ab1c3a9749af906a2d...      2019-01-03\n",
       "3      91d5288487e87c5917b813ba6f75ab1c3a9749af906a2d...      2019-01-04\n",
       "4      91d5288487e87c5917b813ba6f75ab1c3a9749af906a2d...      2019-01-05\n",
       "...                                                  ...             ...\n",
       "35443  7ebf27414a0c7b128e7925e1da56d51a8b81484f7630cf...      2019-01-03\n",
       "35444  7ebf27414a0c7b128e7925e1da56d51a8b81484f7630cf...      2019-01-04\n",
       "35445  7ebf27414a0c7b128e7925e1da56d51a8b81484f7630cf...      2019-01-05\n",
       "35446  7ebf27414a0c7b128e7925e1da56d51a8b81484f7630cf...      2019-01-06\n",
       "35447  7ebf27414a0c7b128e7925e1da56d51a8b81484f7630cf...      2019-01-07\n",
       "\n",
       "[35448 rows x 2 columns]"
      ]
     },
     "execution_count": 18,
     "metadata": {},
     "output_type": "execute_result"
    }
   ],
   "source": [
    "entity_df = pd.merge(taxi_ids, timestamps, how='cross')\n",
    "entity_df"
   ]
  },
  {
   "cell_type": "code",
   "execution_count": null,
   "id": "a1263617",
   "metadata": {},
   "outputs": [],
   "source": []
  },
  {
   "cell_type": "markdown",
   "id": "e2f39876",
   "metadata": {},
   "source": [
    "Retriving historical features for resulting entity dataframe and persisting output as a saved dataset:"
   ]
  },
  {
   "cell_type": "code",
   "execution_count": 19,
   "id": "2c4af1e4",
   "metadata": {},
   "outputs": [
    {
     "name": "stderr",
     "output_type": "stream",
     "text": [
      "/Users/pyalex/projects/feast/sdk/python/feast/feature_store.py:853: RuntimeWarning: Saving dataset is an experimental feature. This API is unstable and it could and most probably will be changed in the future. We do not guarantee that future changes will maintain backward compatibility.\n",
      "  RuntimeWarning,\n"
     ]
    },
    {
     "data": {
      "text/plain": [
       "<SavedDataset(name = my_training_ds, features = ['trip_stats:total_miles_travelled', 'trip_stats:total_trip_seconds', 'trip_stats:total_earned', 'trip_stats:trip_count', 'on_demand_stats:avg_fare', 'on_demand_stats:avg_trip_seconds', 'on_demand_stats:avg_speed'], join_keys = ['taxi_id'], storage = <feast.infra.offline_stores.file_source.SavedDatasetFileStorage object at 0x122fc7410>, full_feature_names = False, tags = {}, _retrieval_job = <feast.infra.offline_stores.file.FileRetrievalJob object at 0x122fc99d0>, min_event_timestamp = 2019-01-01 00:00:00, max_event_timestamp = 2019-01-07 00:00:00)>"
      ]
     },
     "execution_count": 19,
     "metadata": {},
     "output_type": "execute_result"
    }
   ],
   "source": [
    "job = store.get_historical_features(\n",
    "    entity_df=entity_df,\n",
    "    features=[\n",
    "        \"trip_stats:total_miles_travelled\",\n",
    "        \"trip_stats:total_trip_seconds\",\n",
    "        \"trip_stats:total_earned\",\n",
    "        \"trip_stats:trip_count\",\n",
    "        \"on_demand_stats:avg_fare\",\n",
    "        \"on_demand_stats:avg_trip_seconds\",\n",
    "        \"on_demand_stats:avg_speed\",\n",
    "    ]\n",
    ")\n",
    "store.create_saved_dataset(\n",
    "    from_=job,\n",
    "    name='my_training_ds',\n",
    "    storage=SavedDatasetFileStorage(path='my_training_ds.parquet')\n",
    ")"
   ]
  },
  {
   "cell_type": "code",
   "execution_count": null,
   "id": "370a180b",
   "metadata": {},
   "outputs": [],
   "source": []
  },
  {
   "cell_type": "markdown",
   "id": "439de503",
   "metadata": {},
   "source": [
    "## 4. Developing dataset profiler"
   ]
  },
  {
   "cell_type": "code",
   "execution_count": 20,
   "id": "a46f571f",
   "metadata": {},
   "outputs": [
    {
     "name": "stderr",
     "output_type": "stream",
     "text": [
      "02/01/2022 08:05:56 PM WARNING:/Users/pyalex/projects/feast/venv/lib/python3.7/site-packages/great_expectations/render/view/view.py:116: DeprecationWarning: 'contextfilter' is renamed to 'pass_context', the old name will be removed in Jinja 3.1.\n",
      "  def add_data_context_id_to_url(self, jinja_context, url, add_datetime=True):\n",
      "\n"
     ]
    }
   ],
   "source": [
    "from feast.dqm.profilers.ge_profiler import ge_profiler\n",
    "\n",
    "from great_expectations.core.expectation_suite import ExpectationSuite\n",
    "from great_expectations.dataset import PandasDataset"
   ]
  },
  {
   "cell_type": "code",
   "execution_count": 21,
   "id": "e57a229b",
   "metadata": {},
   "outputs": [
    {
     "name": "stderr",
     "output_type": "stream",
     "text": [
      "/Users/pyalex/projects/feast/sdk/python/feast/feature_store.py:904: RuntimeWarning: Retrieving datasets is an experimental feature. This API is unstable and it could and most probably will be changed in the future. We do not guarantee that future changes will maintain backward compatibility.\n",
      "  RuntimeWarning,\n"
     ]
    },
    {
     "data": {
      "text/html": [
       "<div>\n",
       "<style scoped>\n",
       "    .dataframe tbody tr th:only-of-type {\n",
       "        vertical-align: middle;\n",
       "    }\n",
       "\n",
       "    .dataframe tbody tr th {\n",
       "        vertical-align: top;\n",
       "    }\n",
       "\n",
       "    .dataframe thead th {\n",
       "        text-align: right;\n",
       "    }\n",
       "</style>\n",
       "<table border=\"1\" class=\"dataframe\">\n",
       "  <thead>\n",
       "    <tr style=\"text-align: right;\">\n",
       "      <th></th>\n",
       "      <th>avg_speed</th>\n",
       "      <th>taxi_id</th>\n",
       "      <th>total_miles_travelled</th>\n",
       "      <th>total_trip_seconds</th>\n",
       "      <th>total_earned</th>\n",
       "      <th>avg_trip_seconds</th>\n",
       "      <th>event_timestamp</th>\n",
       "      <th>avg_fare</th>\n",
       "      <th>trip_count</th>\n",
       "    </tr>\n",
       "  </thead>\n",
       "  <tbody>\n",
       "    <tr>\n",
       "      <th>0</th>\n",
       "      <td>NaN</td>\n",
       "      <td>91d5288487e87c5917b813ba6f75ab1c3a9749af906a2d...</td>\n",
       "      <td>NaN</td>\n",
       "      <td>NaN</td>\n",
       "      <td>NaN</td>\n",
       "      <td>NaN</td>\n",
       "      <td>2019-01-01 00:00:00+00:00</td>\n",
       "      <td>NaN</td>\n",
       "      <td>NaN</td>\n",
       "    </tr>\n",
       "    <tr>\n",
       "      <th>1</th>\n",
       "      <td>12.008782</td>\n",
       "      <td>155ffe17bc32e7c3bfdfdba2750e82c6a23dab24f77d6c...</td>\n",
       "      <td>22.79</td>\n",
       "      <td>6832.0</td>\n",
       "      <td>94.75</td>\n",
       "      <td>759.111111</td>\n",
       "      <td>2019-01-01 00:00:00+00:00</td>\n",
       "      <td>10.527778</td>\n",
       "      <td>9.0</td>\n",
       "    </tr>\n",
       "    <tr>\n",
       "      <th>2</th>\n",
       "      <td>21.779166</td>\n",
       "      <td>4489496317d593d220fd48f54f9db2732a9a1365fb5206...</td>\n",
       "      <td>60.05</td>\n",
       "      <td>9926.0</td>\n",
       "      <td>187.00</td>\n",
       "      <td>827.166667</td>\n",
       "      <td>2019-01-01 00:00:00+00:00</td>\n",
       "      <td>15.583333</td>\n",
       "      <td>12.0</td>\n",
       "    </tr>\n",
       "    <tr>\n",
       "      <th>3</th>\n",
       "      <td>17.923783</td>\n",
       "      <td>81b99242c38e2b2df0c015587b3a9b03d7c303360f8c82...</td>\n",
       "      <td>14.11</td>\n",
       "      <td>2834.0</td>\n",
       "      <td>47.75</td>\n",
       "      <td>708.500000</td>\n",
       "      <td>2019-01-01 00:00:00+00:00</td>\n",
       "      <td>11.937500</td>\n",
       "      <td>4.0</td>\n",
       "    </tr>\n",
       "    <tr>\n",
       "      <th>4</th>\n",
       "      <td>NaN</td>\n",
       "      <td>fd6250e08d0bb1b9ba4685874a588d1446a8830ffc45f2...</td>\n",
       "      <td>NaN</td>\n",
       "      <td>NaN</td>\n",
       "      <td>NaN</td>\n",
       "      <td>NaN</td>\n",
       "      <td>2019-01-01 00:00:00+00:00</td>\n",
       "      <td>NaN</td>\n",
       "      <td>NaN</td>\n",
       "    </tr>\n",
       "    <tr>\n",
       "      <th>...</th>\n",
       "      <td>...</td>\n",
       "      <td>...</td>\n",
       "      <td>...</td>\n",
       "      <td>...</td>\n",
       "      <td>...</td>\n",
       "      <td>...</td>\n",
       "      <td>...</td>\n",
       "      <td>...</td>\n",
       "      <td>...</td>\n",
       "    </tr>\n",
       "    <tr>\n",
       "      <th>35443</th>\n",
       "      <td>NaN</td>\n",
       "      <td>0b0be23bf69b80dd81715f86c4e0887bbd5d9ebc2463b8...</td>\n",
       "      <td>NaN</td>\n",
       "      <td>NaN</td>\n",
       "      <td>NaN</td>\n",
       "      <td>NaN</td>\n",
       "      <td>2019-01-07 00:00:00+00:00</td>\n",
       "      <td>NaN</td>\n",
       "      <td>NaN</td>\n",
       "    </tr>\n",
       "    <tr>\n",
       "      <th>35444</th>\n",
       "      <td>11.330771</td>\n",
       "      <td>829dced7036593da33254d88a2d065c1698fc377e76c93...</td>\n",
       "      <td>43.40</td>\n",
       "      <td>13789.0</td>\n",
       "      <td>188.25</td>\n",
       "      <td>725.736842</td>\n",
       "      <td>2019-01-07 00:00:00+00:00</td>\n",
       "      <td>9.907895</td>\n",
       "      <td>19.0</td>\n",
       "    </tr>\n",
       "    <tr>\n",
       "      <th>35445</th>\n",
       "      <td>38.228611</td>\n",
       "      <td>c0591d33660deb744cef729db6457d5a0924498c9ed3bb...</td>\n",
       "      <td>45.80</td>\n",
       "      <td>4313.0</td>\n",
       "      <td>118.75</td>\n",
       "      <td>1078.250000</td>\n",
       "      <td>2019-01-07 00:00:00+00:00</td>\n",
       "      <td>29.687500</td>\n",
       "      <td>4.0</td>\n",
       "    </tr>\n",
       "    <tr>\n",
       "      <th>35446</th>\n",
       "      <td>26.566647</td>\n",
       "      <td>7106196249d9702fda7688e088502293990deeb7b10cb1...</td>\n",
       "      <td>50.27</td>\n",
       "      <td>6812.0</td>\n",
       "      <td>131.75</td>\n",
       "      <td>1703.000000</td>\n",
       "      <td>2019-01-07 00:00:00+00:00</td>\n",
       "      <td>32.937500</td>\n",
       "      <td>4.0</td>\n",
       "    </tr>\n",
       "    <tr>\n",
       "      <th>35447</th>\n",
       "      <td>NaN</td>\n",
       "      <td>7ebf27414a0c7b128e7925e1da56d51a8b81484f7630cf...</td>\n",
       "      <td>NaN</td>\n",
       "      <td>NaN</td>\n",
       "      <td>NaN</td>\n",
       "      <td>NaN</td>\n",
       "      <td>2019-01-07 00:00:00+00:00</td>\n",
       "      <td>NaN</td>\n",
       "      <td>NaN</td>\n",
       "    </tr>\n",
       "  </tbody>\n",
       "</table>\n",
       "<p>35448 rows × 9 columns</p>\n",
       "</div>"
      ],
      "text/plain": [
       "       avg_speed                                            taxi_id  \\\n",
       "0            NaN  91d5288487e87c5917b813ba6f75ab1c3a9749af906a2d...   \n",
       "1      12.008782  155ffe17bc32e7c3bfdfdba2750e82c6a23dab24f77d6c...   \n",
       "2      21.779166  4489496317d593d220fd48f54f9db2732a9a1365fb5206...   \n",
       "3      17.923783  81b99242c38e2b2df0c015587b3a9b03d7c303360f8c82...   \n",
       "4            NaN  fd6250e08d0bb1b9ba4685874a588d1446a8830ffc45f2...   \n",
       "...          ...                                                ...   \n",
       "35443        NaN  0b0be23bf69b80dd81715f86c4e0887bbd5d9ebc2463b8...   \n",
       "35444  11.330771  829dced7036593da33254d88a2d065c1698fc377e76c93...   \n",
       "35445  38.228611  c0591d33660deb744cef729db6457d5a0924498c9ed3bb...   \n",
       "35446  26.566647  7106196249d9702fda7688e088502293990deeb7b10cb1...   \n",
       "35447        NaN  7ebf27414a0c7b128e7925e1da56d51a8b81484f7630cf...   \n",
       "\n",
       "       total_miles_travelled  total_trip_seconds  total_earned  \\\n",
       "0                        NaN                 NaN           NaN   \n",
       "1                      22.79              6832.0         94.75   \n",
       "2                      60.05              9926.0        187.00   \n",
       "3                      14.11              2834.0         47.75   \n",
       "4                        NaN                 NaN           NaN   \n",
       "...                      ...                 ...           ...   \n",
       "35443                    NaN                 NaN           NaN   \n",
       "35444                  43.40             13789.0        188.25   \n",
       "35445                  45.80              4313.0        118.75   \n",
       "35446                  50.27              6812.0        131.75   \n",
       "35447                    NaN                 NaN           NaN   \n",
       "\n",
       "       avg_trip_seconds           event_timestamp   avg_fare  trip_count  \n",
       "0                   NaN 2019-01-01 00:00:00+00:00        NaN         NaN  \n",
       "1            759.111111 2019-01-01 00:00:00+00:00  10.527778         9.0  \n",
       "2            827.166667 2019-01-01 00:00:00+00:00  15.583333        12.0  \n",
       "3            708.500000 2019-01-01 00:00:00+00:00  11.937500         4.0  \n",
       "4                   NaN 2019-01-01 00:00:00+00:00        NaN         NaN  \n",
       "...                 ...                       ...        ...         ...  \n",
       "35443               NaN 2019-01-07 00:00:00+00:00        NaN         NaN  \n",
       "35444        725.736842 2019-01-07 00:00:00+00:00   9.907895        19.0  \n",
       "35445       1078.250000 2019-01-07 00:00:00+00:00  29.687500         4.0  \n",
       "35446       1703.000000 2019-01-07 00:00:00+00:00  32.937500         4.0  \n",
       "35447               NaN 2019-01-07 00:00:00+00:00        NaN         NaN  \n",
       "\n",
       "[35448 rows x 9 columns]"
      ]
     },
     "execution_count": 21,
     "metadata": {},
     "output_type": "execute_result"
    }
   ],
   "source": [
    "ds = store.get_saved_dataset('my_training_ds')\n",
    "ds.to_df()"
   ]
  },
  {
   "cell_type": "code",
   "execution_count": 22,
   "id": "b3a8714f",
   "metadata": {},
   "outputs": [],
   "source": [
    "DELTA = 0.1  # controlling allowed window\n",
    "\n",
    "@ge_profiler\n",
    "def stats_profiler(ds: PandasDataset) -> ExpectationSuite:\n",
    "    ds.expect_column_min_to_be_between(\"avg_speed\", min_value=0)\n",
    "    \n",
    "    \n",
    "    observed_mean = ds.trip_count.mean()\n",
    "    ds.expect_column_mean_to_be_between(\"trip_count\",\n",
    "                                        min_value=observed_mean * (1 - DELTA),\n",
    "                                        max_value=observed_mean * (1 + DELTA))\n",
    "    \n",
    "    return ds.get_expectation_suite()"
   ]
  },
  {
   "cell_type": "markdown",
   "id": "d3f2e171",
   "metadata": {},
   "source": [
    "Testing our profiler function:"
   ]
  },
  {
   "cell_type": "code",
   "execution_count": 23,
   "id": "504e5699",
   "metadata": {},
   "outputs": [
    {
     "name": "stderr",
     "output_type": "stream",
     "text": [
      "02/01/2022 08:06:01 PM INFO:\t2 expectation(s) included in expectation_suite. result_format settings filtered.\n"
     ]
    },
    {
     "data": {
      "text/plain": [
       "<GEProfile with expectations: [\n",
       "  {\n",
       "    \"expectation_type\": \"expect_column_min_to_be_between\",\n",
       "    \"meta\": {},\n",
       "    \"kwargs\": {\n",
       "      \"column\": \"avg_speed\",\n",
       "      \"min_value\": 0\n",
       "    }\n",
       "  },\n",
       "  {\n",
       "    \"expectation_type\": \"expect_column_mean_to_be_between\",\n",
       "    \"meta\": {},\n",
       "    \"kwargs\": {\n",
       "      \"column\": \"trip_count\",\n",
       "      \"min_value\": 7.920125245579568,\n",
       "      \"max_value\": 9.680153077930584\n",
       "    }\n",
       "  }\n",
       "]>"
      ]
     },
     "execution_count": 23,
     "metadata": {},
     "output_type": "execute_result"
    }
   ],
   "source": [
    "ds.get_profile(profiler=stats_profiler)"
   ]
  },
  {
   "cell_type": "markdown",
   "id": "32709fff",
   "metadata": {},
   "source": [
    "Now we can create validation reference from dataset and profiler function:"
   ]
  },
  {
   "cell_type": "code",
   "execution_count": 24,
   "id": "3cc27606",
   "metadata": {},
   "outputs": [],
   "source": [
    "validation_reference = ds.as_reference(profiler=stats_profiler)"
   ]
  },
  {
   "cell_type": "code",
   "execution_count": null,
   "id": "cdd5a08a",
   "metadata": {},
   "outputs": [],
   "source": []
  },
  {
   "cell_type": "markdown",
   "id": "0b6d4338",
   "metadata": {},
   "source": [
    "### 5. Validating historical retrieval "
   ]
  },
  {
   "cell_type": "markdown",
   "id": "c3b16c93",
   "metadata": {},
   "source": [
    "Creating new timestamps for Dec 2020:"
   ]
  },
  {
   "cell_type": "code",
   "execution_count": 30,
   "id": "25450aab",
   "metadata": {},
   "outputs": [],
   "source": [
    "from feast.dqm.errors import ValidationFailed"
   ]
  },
  {
   "cell_type": "code",
   "execution_count": 26,
   "id": "d7f6e892",
   "metadata": {},
   "outputs": [],
   "source": [
    "timestamps = pd.DataFrame()\n",
    "timestamps[\"event_timestamp\"] = pd.date_range(\"2020-12-01\", \"2020-12-07\", freq='D')"
   ]
  },
  {
   "cell_type": "code",
   "execution_count": 27,
   "id": "3a5d3b7b",
   "metadata": {},
   "outputs": [
    {
     "data": {
      "text/html": [
       "<div>\n",
       "<style scoped>\n",
       "    .dataframe tbody tr th:only-of-type {\n",
       "        vertical-align: middle;\n",
       "    }\n",
       "\n",
       "    .dataframe tbody tr th {\n",
       "        vertical-align: top;\n",
       "    }\n",
       "\n",
       "    .dataframe thead th {\n",
       "        text-align: right;\n",
       "    }\n",
       "</style>\n",
       "<table border=\"1\" class=\"dataframe\">\n",
       "  <thead>\n",
       "    <tr style=\"text-align: right;\">\n",
       "      <th></th>\n",
       "      <th>taxi_id</th>\n",
       "      <th>event_timestamp</th>\n",
       "    </tr>\n",
       "  </thead>\n",
       "  <tbody>\n",
       "    <tr>\n",
       "      <th>0</th>\n",
       "      <td>91d5288487e87c5917b813ba6f75ab1c3a9749af906a2d...</td>\n",
       "      <td>2020-12-01</td>\n",
       "    </tr>\n",
       "    <tr>\n",
       "      <th>1</th>\n",
       "      <td>91d5288487e87c5917b813ba6f75ab1c3a9749af906a2d...</td>\n",
       "      <td>2020-12-02</td>\n",
       "    </tr>\n",
       "    <tr>\n",
       "      <th>2</th>\n",
       "      <td>91d5288487e87c5917b813ba6f75ab1c3a9749af906a2d...</td>\n",
       "      <td>2020-12-03</td>\n",
       "    </tr>\n",
       "    <tr>\n",
       "      <th>3</th>\n",
       "      <td>91d5288487e87c5917b813ba6f75ab1c3a9749af906a2d...</td>\n",
       "      <td>2020-12-04</td>\n",
       "    </tr>\n",
       "    <tr>\n",
       "      <th>4</th>\n",
       "      <td>91d5288487e87c5917b813ba6f75ab1c3a9749af906a2d...</td>\n",
       "      <td>2020-12-05</td>\n",
       "    </tr>\n",
       "    <tr>\n",
       "      <th>...</th>\n",
       "      <td>...</td>\n",
       "      <td>...</td>\n",
       "    </tr>\n",
       "    <tr>\n",
       "      <th>35443</th>\n",
       "      <td>7ebf27414a0c7b128e7925e1da56d51a8b81484f7630cf...</td>\n",
       "      <td>2020-12-03</td>\n",
       "    </tr>\n",
       "    <tr>\n",
       "      <th>35444</th>\n",
       "      <td>7ebf27414a0c7b128e7925e1da56d51a8b81484f7630cf...</td>\n",
       "      <td>2020-12-04</td>\n",
       "    </tr>\n",
       "    <tr>\n",
       "      <th>35445</th>\n",
       "      <td>7ebf27414a0c7b128e7925e1da56d51a8b81484f7630cf...</td>\n",
       "      <td>2020-12-05</td>\n",
       "    </tr>\n",
       "    <tr>\n",
       "      <th>35446</th>\n",
       "      <td>7ebf27414a0c7b128e7925e1da56d51a8b81484f7630cf...</td>\n",
       "      <td>2020-12-06</td>\n",
       "    </tr>\n",
       "    <tr>\n",
       "      <th>35447</th>\n",
       "      <td>7ebf27414a0c7b128e7925e1da56d51a8b81484f7630cf...</td>\n",
       "      <td>2020-12-07</td>\n",
       "    </tr>\n",
       "  </tbody>\n",
       "</table>\n",
       "<p>35448 rows × 2 columns</p>\n",
       "</div>"
      ],
      "text/plain": [
       "                                                 taxi_id event_timestamp\n",
       "0      91d5288487e87c5917b813ba6f75ab1c3a9749af906a2d...      2020-12-01\n",
       "1      91d5288487e87c5917b813ba6f75ab1c3a9749af906a2d...      2020-12-02\n",
       "2      91d5288487e87c5917b813ba6f75ab1c3a9749af906a2d...      2020-12-03\n",
       "3      91d5288487e87c5917b813ba6f75ab1c3a9749af906a2d...      2020-12-04\n",
       "4      91d5288487e87c5917b813ba6f75ab1c3a9749af906a2d...      2020-12-05\n",
       "...                                                  ...             ...\n",
       "35443  7ebf27414a0c7b128e7925e1da56d51a8b81484f7630cf...      2020-12-03\n",
       "35444  7ebf27414a0c7b128e7925e1da56d51a8b81484f7630cf...      2020-12-04\n",
       "35445  7ebf27414a0c7b128e7925e1da56d51a8b81484f7630cf...      2020-12-05\n",
       "35446  7ebf27414a0c7b128e7925e1da56d51a8b81484f7630cf...      2020-12-06\n",
       "35447  7ebf27414a0c7b128e7925e1da56d51a8b81484f7630cf...      2020-12-07\n",
       "\n",
       "[35448 rows x 2 columns]"
      ]
     },
     "execution_count": 27,
     "metadata": {},
     "output_type": "execute_result"
    }
   ],
   "source": [
    "entity_df = pd.merge(taxi_ids, timestamps, how='cross')\n",
    "entity_df"
   ]
  },
  {
   "cell_type": "code",
   "execution_count": 28,
   "id": "5be40a91",
   "metadata": {},
   "outputs": [],
   "source": [
    "job = store.get_historical_features(\n",
    "    entity_df=entity_df,\n",
    "    features=[\n",
    "        \"trip_stats:total_miles_travelled\",\n",
    "        \"trip_stats:total_trip_seconds\",\n",
    "        \"trip_stats:total_earned\",\n",
    "        \"trip_stats:trip_count\",\n",
    "        \"on_demand_stats:avg_fare\",\n",
    "        \"on_demand_stats:avg_trip_seconds\",\n",
    "        \"on_demand_stats:avg_speed\",\n",
    "    ]\n",
    ")"
   ]
  },
  {
   "cell_type": "markdown",
   "id": "1b12295b",
   "metadata": {},
   "source": [
    "Execute retrieval job with validation reference:"
   ]
  },
  {
   "cell_type": "code",
   "execution_count": 33,
   "id": "3279f2ac",
   "metadata": {},
   "outputs": [
    {
     "name": "stderr",
     "output_type": "stream",
     "text": [
      "/Users/pyalex/projects/feast/sdk/python/feast/infra/offline_stores/offline_store.py:93: RuntimeWarning: Dataset validation is an experimental feature. This API is unstable and it could and most probably will be changed in the future. We do not guarantee that future changes will maintain backward compatibility.\n",
      "  RuntimeWarning,\n",
      "02/01/2022 08:09:58 PM INFO:\t2 expectation(s) included in expectation_suite. result_format settings filtered.\n",
      "02/01/2022 08:09:58 PM INFO:Validating data_asset_name None with expectation_suite_name default\n"
     ]
    },
    {
     "name": "stdout",
     "output_type": "stream",
     "text": [
      "[\n",
      "  {\n",
      "    \"exception_info\": {\n",
      "      \"raised_exception\": false,\n",
      "      \"exception_message\": null,\n",
      "      \"exception_traceback\": null\n",
      "    },\n",
      "    \"result\": {\n",
      "      \"observed_value\": 6.804461643523788,\n",
      "      \"element_count\": 35448,\n",
      "      \"missing_count\": 31055,\n",
      "      \"missing_percent\": 87.6071992778154\n",
      "    },\n",
      "    \"success\": false,\n",
      "    \"expectation_config\": {\n",
      "      \"expectation_type\": \"expect_column_mean_to_be_between\",\n",
      "      \"meta\": {},\n",
      "      \"kwargs\": {\n",
      "        \"column\": \"trip_count\",\n",
      "        \"min_value\": 7.920125245579568,\n",
      "        \"max_value\": 9.680153077930584,\n",
      "        \"result_format\": \"COMPLETE\"\n",
      "      }\n",
      "    },\n",
      "    \"meta\": {}\n",
      "  }\n",
      "]\n"
     ]
    }
   ],
   "source": [
    "try:\n",
    "    df = job.to_df(validation_reference=validation_reference)\n",
    "except ValidationFailed as exc:\n",
    "    print(exc.validation_report)"
   ]
  },
  {
   "cell_type": "markdown",
   "id": "516f1935",
   "metadata": {},
   "source": [
    "Validation failed because avg trip count decreased significantly (more than 10%, see DELTA above) in this new dataset."
   ]
  },
  {
   "cell_type": "code",
   "execution_count": null,
   "id": "cb9d59c9",
   "metadata": {},
   "outputs": [],
   "source": []
  }
 ],
 "metadata": {
  "kernelspec": {
   "display_name": "Python 3 (ipykernel)",
   "language": "python",
   "name": "python3"
  },
  "language_info": {
   "codemirror_mode": {
    "name": "ipython",
    "version": 3
   },
   "file_extension": ".py",
   "mimetype": "text/x-python",
   "name": "python",
   "nbconvert_exporter": "python",
   "pygments_lexer": "ipython3",
   "version": "3.7.12"
  }
 },
 "nbformat": 4,
 "nbformat_minor": 5
}
